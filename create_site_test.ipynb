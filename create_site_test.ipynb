{
  "nbformat": 4,
  "nbformat_minor": 0,
  "metadata": {
    "colab": {
      "provenance": [],
      "authorship_tag": "ABX9TyPMAKlcRFTZ0oeP9TNQ8gSw",
      "include_colab_link": true
    },
    "kernelspec": {
      "name": "python3",
      "display_name": "Python 3"
    },
    "language_info": {
      "name": "python"
    }
  },
  "cells": [
    {
      "cell_type": "markdown",
      "metadata": {
        "id": "view-in-github",
        "colab_type": "text"
      },
      "source": [
        "<a href=\"https://colab.research.google.com/github/Sam-1-cmd/sam_tp_ml/blob/main/create_site_test.ipynb\" target=\"_parent\"><img src=\"https://colab.research.google.com/assets/colab-badge.svg\" alt=\"Open In Colab\"/></a>"
      ]
    },
    {
      "cell_type": "code",
      "execution_count": null,
      "metadata": {
        "id": "owi5gOsFHqzh"
      },
      "outputs": [],
      "source": [
        "import streamlit as st\n",
        "\n",
        "# Configuration de la page\n",
        "st.set_page_config(page_title=\"ELECTRO SOLUT – Vente d'ordinateurs\", layout=\"wide\")\n",
        "\n",
        "# --- Bannière avec logo ---\n",
        "st.markdown(\"\"\"\n",
        "    <div style=\"background-color:#0A5275;padding:20px;border-radius:10px;\">\n",
        "        <h1 style=\"color:white;text-align:center;\">💻 ELECTRO SOLUT</h1>\n",
        "        <h3 style=\"color:white;text-align:center;\">Votre partenaire en solutions informatiques</h3>\n",
        "    </div>\n",
        "\"\"\", unsafe_allow_html=True)\n",
        "\n",
        "# --- Présentation de l'entreprise ---\n",
        "st.header(\"📢 À propos de nous\")\n",
        "st.write(\"\"\"\n",
        "**ELECTRO SOLUT** est une entreprise spécialisée dans la vente d'ordinateurs portables, de bureau et d’accessoires tech haut de gamme.\n",
        "Nous proposons des produits fiables, performants et adaptés à tous les besoins (étudiants, professionnels, gamers, etc.).\n",
        "\"\"\")\n",
        "\n",
        "# --- Catalogue de produits ---\n",
        "st.header(\"🛒 Nos produits\")\n",
        "cols = st.columns(3)\n",
        "\n",
        "with cols[0]:\n",
        "    st.image(\"https://images.unsplash.com/photo-1517336714731-489689fd1ca8\", caption=\"Ordinateur portable ProBook\", use_container_width=True)\n",
        "    st.write(\"💰 **Prix :** 899 €\")\n",
        "    st.write(\"💡 Idéal pour les professionnels.\")\n",
        "\n",
        "with cols[1]:\n",
        "    st.image(\"https://images.unsplash.com/photo-1587202372775-a429ef54b29b\", caption=\"Ordinateur Gamer X-Treme\", use_container_width=True)\n",
        "    st.write(\"💰 **Prix :** 1299 €\")\n",
        "    st.write(\"🎮 Hautes performances pour gaming et montage vidéo.\")\n",
        "\n",
        "with cols[2]:\n",
        "    st.image(\"https://images.unsplash.com/photo-1584270354949-1f7f25e6b3b9\", caption=\"Mini PC Compact\", use_container_width=True)\n",
        "    st.write(\"💰 **Prix :** 499 €\")\n",
        "    st.write(\"🧳 Ultra-portable, idéal pour les déplacements.\")\n",
        "\n",
        "# --- Formulaire de contact ---\n",
        "st.header(\"📬 Contactez-nous\")\n",
        "with st.form(key='contact_form'):\n",
        "    nom = st.text_input(\"Nom\")\n",
        "    email = st.text_input(\"Email\")\n",
        "    message = st.text_area(\"Votre message\")\n",
        "    envoyer = st.form_submit_button(\"Envoyer\")\n",
        "\n",
        "    if envoyer:\n",
        "        st.success(\"✅ Merci pour votre message ! Nous vous répondrons dans les plus brefs délais.\")\n",
        "\n",
        "# --- Pied de page ---\n",
        "st.markdown(\"\"\"\n",
        "    <hr>\n",
        "    <div style=\"text-align:center;\">\n",
        "        <p>© 2025 ELECTRO SOLUT – Tous droits réservés.</p>\n",
        "        <p>📧 contact@electrosolut.com | 📞 +33 1 23 45 67 89</p>\n",
        "    </div>\n",
        "\"\"\", unsafe_allow_html=True)"
      ]
    }
  ]
}